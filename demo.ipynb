{
 "metadata": {
  "language_info": {
   "codemirror_mode": {
    "name": "ipython",
    "version": 3
   },
   "file_extension": ".py",
   "mimetype": "text/x-python",
   "name": "python",
   "nbconvert_exporter": "python",
   "pygments_lexer": "ipython3",
   "version": "3.8.5-final"
  },
  "orig_nbformat": 2,
  "kernelspec": {
   "name": "python3",
   "display_name": "Python 3.8.5 64-bit ('mesh': conda)",
   "metadata": {
    "interpreter": {
     "hash": "dde3d51b384d8421789207a4f6b4e53f355eef31c1659f935fb8f9770b4b5d97"
    }
   }
  }
 },
 "nbformat": 4,
 "nbformat_minor": 2,
 "cells": [
  {
   "cell_type": "code",
   "execution_count": null,
   "metadata": {},
   "outputs": [],
   "source": [
    "from isoblend import IICMesh, interpolate, refine, evaluate\n",
    "import numpy as np"
   ]
  },
  {
   "cell_type": "code",
   "execution_count": null,
   "metadata": {},
   "outputs": [],
   "source": [
    "key0 = IICMesh(\"data/horse.obj\")\n",
    "key1 = IICMesh(\"data/camel.obj\")"
   ]
  },
  {
   "cell_type": "code",
   "execution_count": null,
   "metadata": {},
   "outputs": [],
   "source": [
    "mesh = interpolate(key0, key1, 0.5)\n",
    "\n",
    "errs = evaluate(mesh, key0, key1, 0.5)\n",
    "print(np.mean(errs))\n",
    "print(np.std(errs))\n",
    "\n",
    "mesh.show(zoom=0.8)"
   ]
  },
  {
   "cell_type": "code",
   "execution_count": null,
   "metadata": {},
   "outputs": [],
   "source": [
    "for i in range(3):\n",
    "    mesh = refine(mesh)\n",
    "errs = evaluate(mesh, key0, key1, 0.5)\n",
    "\n",
    "print(np.mean(errs))\n",
    "print(np.std(errs))\n",
    "\n",
    "mesh.show(zoom=0.8)"
   ]
  }
 ]
}