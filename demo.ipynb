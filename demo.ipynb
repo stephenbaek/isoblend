{
 "metadata": {
  "language_info": {
   "codemirror_mode": {
    "name": "ipython",
    "version": 3
   },
   "file_extension": ".py",
   "mimetype": "text/x-python",
   "name": "python",
   "nbconvert_exporter": "python",
   "pygments_lexer": "ipython3",
   "version": "3.8.5-final"
  },
  "orig_nbformat": 2,
  "kernelspec": {
   "name": "python3",
   "display_name": "Python 3.8.5 64-bit ('mesh': conda)",
   "metadata": {
    "interpreter": {
     "hash": "dde3d51b384d8421789207a4f6b4e53f355eef31c1659f935fb8f9770b4b5d97"
    }
   }
  }
 },
 "nbformat": 4,
 "nbformat_minor": 2,
 "cells": [
  {
   "source": [
    "# Isometric Shape Interpolation Demo"
   ],
   "cell_type": "markdown",
   "metadata": {}
  },
  {
   "source": [
    "## Import dependencies"
   ],
   "cell_type": "markdown",
   "metadata": {}
  },
  {
   "cell_type": "code",
   "execution_count": null,
   "metadata": {},
   "outputs": [],
   "source": [
    "import open3d\n",
    "from isoblend import IICMesh, interpolate, refine, evaluate\n",
    "import numpy as np"
   ]
  },
  {
   "source": [
    "## Read keyframes"
   ],
   "cell_type": "markdown",
   "metadata": {}
  },
  {
   "cell_type": "code",
   "execution_count": null,
   "metadata": {},
   "outputs": [],
   "source": [
    "key0 = IICMesh(\"data/horse.obj\")\n",
    "key1 = IICMesh(\"data/camel.obj\")"
   ]
  },
  {
   "source": [
    "## Interpolate"
   ],
   "cell_type": "markdown",
   "metadata": {}
  },
  {
   "cell_type": "code",
   "execution_count": null,
   "metadata": {},
   "outputs": [],
   "source": [
    "t = 0.5\n",
    "mesh = interpolate(key0, key1, t)\n",
    "errs = evaluate(mesh, key0, key1, t)\n",
    "print(np.mean(errs))\n",
    "print(np.std(errs))"
   ]
  },
  {
   "cell_type": "code",
   "execution_count": null,
   "metadata": {},
   "outputs": [],
   "source": [
    "mesh.show(zoom=0.8)"
   ]
  },
  {
   "source": [
    "## Refine"
   ],
   "cell_type": "markdown",
   "metadata": {}
  },
  {
   "cell_type": "code",
   "execution_count": null,
   "metadata": {},
   "outputs": [],
   "source": [
    "for i in range(3):\n",
    "    mesh = refine(mesh)\n",
    "\n",
    "errs = evaluate(mesh, key0, key1, t)\n",
    "print(np.mean(errs))\n",
    "print(np.std(errs))\n"
   ]
  },
  {
   "cell_type": "code",
   "execution_count": null,
   "metadata": {},
   "outputs": [],
   "source": [
    "mesh.show(zoom=0.8)"
   ]
  },
  {
   "source": [
    "## Export result"
   ],
   "cell_type": "markdown",
   "metadata": {}
  },
  {
   "cell_type": "code",
   "execution_count": null,
   "metadata": {},
   "outputs": [],
   "source": [
    "mesh.write(f\"interpolated_t={t:.2f}.ply\")"
   ]
  },
  {
   "source": [
    "## Create multiple stages and display them"
   ],
   "cell_type": "markdown",
   "metadata": {}
  },
  {
   "cell_type": "code",
   "execution_count": null,
   "metadata": {},
   "outputs": [],
   "source": [
    "import open3d\n",
    "\n",
    "meshes = [key0.mesh]\n",
    "for t in [0.25, 0.5, 0.75]:\n",
    "    mesh = interpolate(key0, key1, t)\n",
    "    meshes.append(mesh.mesh)\n",
    "meshes.append(key1.mesh)"
   ]
  },
  {
   "cell_type": "code",
   "execution_count": null,
   "metadata": {},
   "outputs": [],
   "source": [
    "meshes[0].translate([-2,0,0])\n",
    "meshes[1].translate([-1,0,0])\n",
    "meshes[3].translate([1,0,0])\n",
    "meshes[4].translate([2,0,0])"
   ]
  },
  {
   "cell_type": "code",
   "execution_count": null,
   "metadata": {},
   "outputs": [],
   "source": [
    "open3d.visualization.draw_geometries(meshes)"
   ]
  }
 ]
}